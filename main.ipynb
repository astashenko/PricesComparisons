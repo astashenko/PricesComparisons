{
 "cells": [
  {
   "cell_type": "markdown",
   "metadata": {},
   "source": [
    "#### Порядок работы\n",
    "\n",
    "1. Сравнение оценки стоимости, произведенный Компанией 1 и компанией 2\n",
    "\n",
    "```bash  \n",
    "src/comparison_evaluations.ipynb\n",
    "``` \n",
    "\n",
    "2. Проверка степени обогащения данных, полученных от аналитического анализа \"Компания 2\"\n",
    "   \n",
    "```bash  \n",
    "src/descriptive_analysis.ipynb\n",
    "``` "
   ]
  },
  {
   "cell_type": "markdown",
   "metadata": {},
   "source": []
  }
 ],
 "metadata": {
  "interpreter": {
   "hash": "ad2bdc8ecc057115af97d19610ffacc2b4e99fae6737bb82f5d7fb13d2f2c186"
  },
  "kernelspec": {
   "display_name": "Python 3.7.13 ('base')",
   "language": "python",
   "name": "python3"
  },
  "language_info": {
   "codemirror_mode": {
    "name": "ipython",
    "version": 3
   },
   "file_extension": ".py",
   "mimetype": "text/x-python",
   "name": "python",
   "nbconvert_exporter": "python",
   "pygments_lexer": "ipython3",
   "version": "3.7.13"
  }
 },
 "nbformat": 4,
 "nbformat_minor": 4
}
